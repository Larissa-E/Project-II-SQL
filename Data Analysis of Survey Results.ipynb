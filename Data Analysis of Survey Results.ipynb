{
 "cells": [
  {
   "cell_type": "code",
   "execution_count": 18,
   "id": "4950b008-9f6c-4ab4-b8ac-155423ad1c8e",
   "metadata": {},
   "outputs": [],
   "source": [
    "import pandas as pd\n",
    "df = pd.read_csv('./Downloads/survey_results_public.csv')\n",
    "schema = pd.read_csv('./Downloads/survey_results_schema.csv')"
   ]
  },
  {
   "cell_type": "code",
   "execution_count": null,
   "id": "f0e44c6c-f18b-4791-8788-16333d0ea77c",
   "metadata": {},
   "outputs": [],
   "source": [
    "# Primele 5 valori\n",
    "print(df.head())\n",
    "print(schema.head())"
   ]
  },
  {
   "cell_type": "code",
   "execution_count": 38,
   "id": "186dff80-15c1-414c-9b4c-ae0e424ea66d",
   "metadata": {},
   "outputs": [
    {
     "name": "stdout",
     "output_type": "stream",
     "text": [
      "Cati respondenti au completat sondajul: 65437\n"
     ]
    }
   ],
   "source": [
    "# 1. Cati respondenti au completat sondajul?\n",
    "nr_resp = df.ResponseId.nunique()\n",
    "print(f\"Cati respondenti au completat sondajul: {nr_resp}\")"
   ]
  },
  {
   "cell_type": "code",
   "execution_count": 40,
   "id": "f4386a3c-4b3c-476e-8232-0ddc482b584b",
   "metadata": {},
   "outputs": [
    {
     "name": "stdout",
     "output_type": "stream",
     "text": [
      "Cati respondenti au raspuns la toate intrebarile?: 6306\n"
     ]
    }
   ],
   "source": [
    "# 2. Cati respondenti au raspuns la toate intrebarile?\n",
    "questions = set(schema.qname.unique()) & set(df.columns)\n",
    "nr_resp_cmpl = df.dropna(subset=questions).shape[0]\n",
    "print(f\"Cati respondenti au raspuns la toate intrebarile?: {nr_resp_cmpl}\")"
   ]
  },
  {
   "cell_type": "code",
   "execution_count": 42,
   "id": "798e0e55-2ed4-4eb5-be10-d07f10337736",
   "metadata": {},
   "outputs": [
    {
     "name": "stdout",
     "output_type": "stream",
     "text": [
      "Media: 11.46695663901814\n",
      "Modulul: 0    3.0\n",
      "Name: WorkExp, dtype: float64\n",
      "Mediana: 9.0\n"
     ]
    }
   ],
   "source": [
    "# 3. Care sunt valorile masurilor de tendinta centrala pentru experienta respondentilor (WorkExp)?\n",
    "print(f'Media: {df.WorkExp.mean()}')\n",
    "print(f'Modulul: {df.WorkExp.mode()}')\n",
    "print(f'Mediana: {df.WorkExp.median()}')"
   ]
  },
  {
   "cell_type": "code",
   "execution_count": 44,
   "id": "cc868fb8-6353-4690-8385-c44e6a369111",
   "metadata": {},
   "outputs": [
    {
     "name": "stdout",
     "output_type": "stream",
     "text": [
      "Cati respondenti lucreaza de la distanta?: 20831\n"
     ]
    }
   ],
   "source": [
    "# 4. Cati respondenti lucreaza de la distanta?\n",
    "nr_resp_remote = df[df.RemoteWork == 'Remote'].shape[0]\n",
    "print(f\"Cati respondenti lucreaza de la distanta?: {nr_resp_remote}\")"
   ]
  },
  {
   "cell_type": "code",
   "execution_count": 46,
   "id": "ebba32bd-7af4-4fca-874c-f247af92be9f",
   "metadata": {},
   "outputs": [
    {
     "name": "stdout",
     "output_type": "stream",
     "text": [
      "Ce procent de respondenti programeaza in Python?: 0.47\n"
     ]
    }
   ],
   "source": [
    "# 5. Ce procent de respondenti programeaza in Python?\n",
    "df['worked_with_python'] = df.LanguageHaveWorkedWith.str.contains('python', case=False,na=False)\n",
    "perc_python = round(df.worked_with_python.sum() / df.ResponseId.nunique(), 2)\n",
    "print(f\"Ce procent de respondenti programeaza in Python?: {perc_python}\")"
   ]
  },
  {
   "cell_type": "code",
   "execution_count": 48,
   "id": "c1d53bbb-4fcf-4f44-98d1-320f106057ed",
   "metadata": {},
   "outputs": [
    {
     "name": "stdout",
     "output_type": "stream",
     "text": [
      "Cati respondenti au invatat sa programeze prin cursuri online? 30271\n"
     ]
    }
   ],
   "source": [
    "# 6. Cati respondenti au invatat sa programeze prin cursuri online?\n",
    "df['learned_with_online_courses'] = df.LearnCode.str.contains('online courses', case=False, na=False)\n",
    "resp_online_courses = df.learned_with_online_courses.sum()\n",
    "print(f\"Cati respondenti au invatat sa programeze prin cursuri online? {resp_online_courses}\")"
   ]
  },
  {
   "cell_type": "code",
   "execution_count": 50,
   "id": "d6f442e2-16a2-48cd-94f3-cf1ad051ba58",
   "metadata": {},
   "outputs": [
    {
     "name": "stdout",
     "output_type": "stream",
     "text": [
      "                                               mean    median\n",
      "Country                                                      \n",
      "Afghanistan                             4543.000000    4768.5\n",
      "Albania                                56295.000000   56295.0\n",
      "Algeria                                 9053.285714    6230.0\n",
      "Andorra                               193331.000000  193331.0\n",
      "Angola                                     6.000000       6.0\n",
      "...                                             ...       ...\n",
      "Venezuela, Bolivarian Republic of...   21500.000000    7100.0\n",
      "Viet Nam                               14014.562500   10180.0\n",
      "Yemen                                  10297.333333    5333.0\n",
      "Zambia                                 28123.666667   22803.0\n",
      "Zimbabwe                               37500.000000   18000.0\n",
      "\n",
      "[173 rows x 2 columns]\n"
     ]
    }
   ],
   "source": [
    "# 7. Dintre respondentii care programeaza in Python, grupati pe tari, care este valoarea medie si mediana a remuneratiei? (ConvertedCompYearly) in fiecare tara?\n",
    "python_progr = df[df[\"LanguageHaveWorkedWith\"].str.contains(\"Python\", case=False, na=False)]\n",
    "# Valoarea mediei si medianei a remuneratiei, grupate pe tara\n",
    "py_salary_stats = python_progr.groupby(\"Country\")[\"ConvertedCompYearly\"].agg([\"mean\", \"median\"])\n",
    "print(py_salary_stats)"
   ]
  },
  {
   "cell_type": "code",
   "execution_count": 54,
   "id": "bca71e18-b55c-4b8b-b8a2-a6659f71819d",
   "metadata": {},
   "outputs": [
    {
     "name": "stdout",
     "output_type": "stream",
     "text": [
      "Ce nivel de educatie au cei 5 respondenti cu cea mai mare compensatie?:        ResponseId                                         EdLevel  \\\n",
      "15837       15838    Bachelor’s degree (B.A., B.S., B.Eng., etc.)   \n",
      "12723       12724  Professional degree (JD, MD, Ph.D, Ed.D, etc.)   \n",
      "28379       28380  Professional degree (JD, MD, Ph.D, Ed.D, etc.)   \n",
      "17593       17594    Bachelor’s degree (B.A., B.S., B.Eng., etc.)   \n",
      "17672       17673  Professional degree (JD, MD, Ph.D, Ed.D, etc.)   \n",
      "\n",
      "       ConvertedCompYearly       Country  \n",
      "15837           16256603.0      Ethiopia  \n",
      "12723           13818022.0  South Africa  \n",
      "28379            9000000.0        Taiwan  \n",
      "17593            6340564.0        Brazil  \n",
      "17672            4936778.0       Ukraine  \n"
     ]
    }
   ],
   "source": [
    "# 8. Ce nivel de educatie au cei 5 respondenti cu cea mai mare compensatie?\n",
    "resp_education_renum = df[['ResponseId', 'EdLevel', 'ConvertedCompYearly', 'Country']].sort_values(by='ConvertedCompYearly', ascending=False).head(5)\n",
    "print(f\"Ce nivel de educatie au cei 5 respondenti cu cea mai mare compensatie?: {resp_education_renum}\")"
   ]
  },
  {
   "cell_type": "code",
   "execution_count": 60,
   "id": "8752f74b-6051-43fb-bace-beb554cfd9a1",
   "metadata": {},
   "outputs": [
    {
     "data": {
      "text/html": [
       "<div>\n",
       "<style scoped>\n",
       "    .dataframe tbody tr th:only-of-type {\n",
       "        vertical-align: middle;\n",
       "    }\n",
       "\n",
       "    .dataframe tbody tr th {\n",
       "        vertical-align: top;\n",
       "    }\n",
       "\n",
       "    .dataframe thead th {\n",
       "        text-align: right;\n",
       "    }\n",
       "</style>\n",
       "<table border=\"1\" class=\"dataframe\">\n",
       "  <thead>\n",
       "    <tr style=\"text-align: right;\">\n",
       "      <th></th>\n",
       "      <th>Age</th>\n",
       "      <th>ResponseId</th>\n",
       "      <th>worked_with_python</th>\n",
       "      <th>work_with_python_share</th>\n",
       "    </tr>\n",
       "  </thead>\n",
       "  <tbody>\n",
       "    <tr>\n",
       "      <th>0</th>\n",
       "      <td>18-24 years old</td>\n",
       "      <td>14098</td>\n",
       "      <td>7884</td>\n",
       "      <td>0.56</td>\n",
       "    </tr>\n",
       "    <tr>\n",
       "      <th>1</th>\n",
       "      <td>25-34 years old</td>\n",
       "      <td>23911</td>\n",
       "      <td>10945</td>\n",
       "      <td>0.46</td>\n",
       "    </tr>\n",
       "    <tr>\n",
       "      <th>2</th>\n",
       "      <td>35-44 years old</td>\n",
       "      <td>14942</td>\n",
       "      <td>6204</td>\n",
       "      <td>0.42</td>\n",
       "    </tr>\n",
       "    <tr>\n",
       "      <th>3</th>\n",
       "      <td>45-54 years old</td>\n",
       "      <td>6249</td>\n",
       "      <td>2619</td>\n",
       "      <td>0.42</td>\n",
       "    </tr>\n",
       "    <tr>\n",
       "      <th>4</th>\n",
       "      <td>55-64 years old</td>\n",
       "      <td>2575</td>\n",
       "      <td>1041</td>\n",
       "      <td>0.40</td>\n",
       "    </tr>\n",
       "    <tr>\n",
       "      <th>5</th>\n",
       "      <td>65 years or older</td>\n",
       "      <td>772</td>\n",
       "      <td>290</td>\n",
       "      <td>0.38</td>\n",
       "    </tr>\n",
       "    <tr>\n",
       "      <th>6</th>\n",
       "      <td>Prefer not to say</td>\n",
       "      <td>322</td>\n",
       "      <td>146</td>\n",
       "      <td>0.45</td>\n",
       "    </tr>\n",
       "    <tr>\n",
       "      <th>7</th>\n",
       "      <td>Under 18 years old</td>\n",
       "      <td>2568</td>\n",
       "      <td>1666</td>\n",
       "      <td>0.65</td>\n",
       "    </tr>\n",
       "  </tbody>\n",
       "</table>\n",
       "</div>"
      ],
      "text/plain": [
       "                  Age  ResponseId  worked_with_python  work_with_python_share\n",
       "0     18-24 years old       14098                7884                    0.56\n",
       "1     25-34 years old       23911               10945                    0.46\n",
       "2     35-44 years old       14942                6204                    0.42\n",
       "3     45-54 years old        6249                2619                    0.42\n",
       "4     55-64 years old        2575                1041                    0.40\n",
       "5   65 years or older         772                 290                    0.38\n",
       "6   Prefer not to say         322                 146                    0.45\n",
       "7  Under 18 years old        2568                1666                    0.65"
      ]
     },
     "execution_count": 60,
     "metadata": {},
     "output_type": "execute_result"
    }
   ],
   "source": [
    "# In fiecare grupa de varsta, ce procent de respondenti programeaza in Python?\n",
    "py_progres_share_by_age = df.groupby('Age', as_index=False).agg({'ResponseId': 'count', 'worked_with_python': 'sum'})\n",
    "py_progres_share_by_age['work_with_python_share'] = round(py_progres_share_by_age.worked_with_python / py_progres_share_by_age.ResponseId, 2)\n",
    "py_progres_share_by_age"
   ]
  },
  {
   "cell_type": "code",
   "execution_count": 62,
   "id": "a6d5a6f2-58c1-4bec-b969-1ef449bc61b8",
   "metadata": {},
   "outputs": [
    {
     "data": {
      "text/html": [
       "<div>\n",
       "<style scoped>\n",
       "    .dataframe tbody tr th:only-of-type {\n",
       "        vertical-align: middle;\n",
       "    }\n",
       "\n",
       "    .dataframe tbody tr th {\n",
       "        vertical-align: top;\n",
       "    }\n",
       "\n",
       "    .dataframe thead th {\n",
       "        text-align: right;\n",
       "    }\n",
       "</style>\n",
       "<table border=\"1\" class=\"dataframe\">\n",
       "  <thead>\n",
       "    <tr style=\"text-align: right;\">\n",
       "      <th></th>\n",
       "      <th>Industry</th>\n",
       "      <th>count</th>\n",
       "    </tr>\n",
       "  </thead>\n",
       "  <tbody>\n",
       "    <tr>\n",
       "      <th>0</th>\n",
       "      <td>Software Development</td>\n",
       "      <td>768</td>\n",
       "    </tr>\n",
       "    <tr>\n",
       "      <th>1</th>\n",
       "      <td>Other:</td>\n",
       "      <td>239</td>\n",
       "    </tr>\n",
       "    <tr>\n",
       "      <th>2</th>\n",
       "      <td>Healthcare</td>\n",
       "      <td>156</td>\n",
       "    </tr>\n",
       "    <tr>\n",
       "      <th>3</th>\n",
       "      <td>Fintech</td>\n",
       "      <td>156</td>\n",
       "    </tr>\n",
       "    <tr>\n",
       "      <th>4</th>\n",
       "      <td>Internet, Telecomm or Information Services</td>\n",
       "      <td>145</td>\n",
       "    </tr>\n",
       "    <tr>\n",
       "      <th>5</th>\n",
       "      <td>Retail and Consumer Services</td>\n",
       "      <td>106</td>\n",
       "    </tr>\n",
       "    <tr>\n",
       "      <th>6</th>\n",
       "      <td>Media &amp; Advertising Services</td>\n",
       "      <td>103</td>\n",
       "    </tr>\n",
       "    <tr>\n",
       "      <th>7</th>\n",
       "      <td>Banking/Financial Services</td>\n",
       "      <td>69</td>\n",
       "    </tr>\n",
       "    <tr>\n",
       "      <th>8</th>\n",
       "      <td>Government</td>\n",
       "      <td>69</td>\n",
       "    </tr>\n",
       "    <tr>\n",
       "      <th>9</th>\n",
       "      <td>Computer Systems Design and Services</td>\n",
       "      <td>69</td>\n",
       "    </tr>\n",
       "    <tr>\n",
       "      <th>10</th>\n",
       "      <td>Transportation, or Supply Chain</td>\n",
       "      <td>67</td>\n",
       "    </tr>\n",
       "    <tr>\n",
       "      <th>11</th>\n",
       "      <td>Insurance</td>\n",
       "      <td>50</td>\n",
       "    </tr>\n",
       "    <tr>\n",
       "      <th>12</th>\n",
       "      <td>Manufacturing</td>\n",
       "      <td>48</td>\n",
       "    </tr>\n",
       "    <tr>\n",
       "      <th>13</th>\n",
       "      <td>Higher Education</td>\n",
       "      <td>42</td>\n",
       "    </tr>\n",
       "    <tr>\n",
       "      <th>14</th>\n",
       "      <td>Energy</td>\n",
       "      <td>36</td>\n",
       "    </tr>\n",
       "  </tbody>\n",
       "</table>\n",
       "</div>"
      ],
      "text/plain": [
       "                                      Industry  count\n",
       "0                         Software Development    768\n",
       "1                                       Other:    239\n",
       "2                                   Healthcare    156\n",
       "3                                      Fintech    156\n",
       "4   Internet, Telecomm or Information Services    145\n",
       "5                 Retail and Consumer Services    106\n",
       "6                 Media & Advertising Services    103\n",
       "7                   Banking/Financial Services     69\n",
       "8                                   Government     69\n",
       "9         Computer Systems Design and Services     69\n",
       "10             Transportation, or Supply Chain     67\n",
       "11                                   Insurance     50\n",
       "12                               Manufacturing     48\n",
       "13                            Higher Education     42\n",
       "14                                      Energy     36"
      ]
     },
     "execution_count": 62,
     "metadata": {},
     "output_type": "execute_result"
    }
   ],
   "source": [
    "# In randul respondentilor din a 75-a percentila a renumeratiei medii care lucreaza de la distanta, care sunt cele mai frecvente industrii?\n",
    "df[(df.ConvertedCompYearly > df.ConvertedCompYearly.quantile(0.75)) & (df.RemoteWork == 'Remote')].Industry.value_counts().reset_index()"
   ]
  },
  {
   "cell_type": "code",
   "execution_count": null,
   "id": "ace67071-2580-4941-a774-95e22bcba23f",
   "metadata": {},
   "outputs": [],
   "source": []
  }
 ],
 "metadata": {
  "kernelspec": {
   "display_name": "Python 3 (ipykernel)",
   "language": "python",
   "name": "python3"
  },
  "language_info": {
   "codemirror_mode": {
    "name": "ipython",
    "version": 3
   },
   "file_extension": ".py",
   "mimetype": "text/x-python",
   "name": "python",
   "nbconvert_exporter": "python",
   "pygments_lexer": "ipython3",
   "version": "3.12.7"
  }
 },
 "nbformat": 4,
 "nbformat_minor": 5
}
